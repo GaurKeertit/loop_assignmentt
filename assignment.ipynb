{
 "cells": [
  {
   "cell_type": "markdown",
   "id": "f6067bb1-45c6-42d4-9318-bafc33382142",
   "metadata": {},
   "source": [
    "Explain with an example each when to use a for loop and a while loop.\n",
    "\n",
    "soln.   The for loop is used when we already know the number of iterations, which means when we know how many times a statement has to be executed and\n",
    " \"While\" Loop is used to repeat a specific block of code an unknown number of times, until a condition is met\n",
    "\n"
   ]
  },
  {
   "cell_type": "code",
   "execution_count": null,
   "id": "9d941191-de45-4f04-9403-0e1607ae84ce",
   "metadata": {},
   "outputs": [],
   "source": []
  },
  {
   "cell_type": "raw",
   "id": "85975c49-489f-4dc2-b43c-f6020f577762",
   "metadata": {},
   "source": [
    "Write a python program to print the sum and product of the first 10 natural numbers using for\n",
    "and while loop."
   ]
  },
  {
   "cell_type": "code",
   "execution_count": 2,
   "id": "6e9662ee-f37b-4b0a-bfd7-71ca5f628678",
   "metadata": {},
   "outputs": [
    {
     "name": "stdout",
     "output_type": "stream",
     "text": [
      "sum of the first 10 natural numbers =  55\n"
     ]
    }
   ],
   "source": [
    "sum=0\n",
    "for i in range(11):\n",
    "    sum=sum+i\n",
    "print(\"sum of the first 10 natural numbers = \",sum)"
   ]
  },
  {
   "cell_type": "code",
   "execution_count": 2,
   "id": "1b7ba250-ec9a-4b91-926f-b271c6a9a78b",
   "metadata": {},
   "outputs": [
    {
     "name": "stdout",
     "output_type": "stream",
     "text": [
      "sum of the first 10 natural numbers =  55\n"
     ]
    }
   ],
   "source": [
    "i=1\n",
    "sum=0\n",
    "while i<=10:\n",
    "    sum+=i\n",
    "    i+=1\n",
    "print(\"sum of the first 10 natural numbers = \",sum)"
   ]
  },
  {
   "cell_type": "markdown",
   "id": "2be457a4-8ae8-41d9-a9ef-eecd8363d8dd",
   "metadata": {},
   "source": [
    "while/for for multi........"
   ]
  },
  {
   "cell_type": "code",
   "execution_count": 3,
   "id": "2ee09b2b-6729-4b3b-9319-2792dfd9b2bd",
   "metadata": {},
   "outputs": [
    {
     "name": "stdout",
     "output_type": "stream",
     "text": [
      "sum of the first 10 natural numbers =  3628800\n"
     ]
    }
   ],
   "source": [
    "i=1\n",
    "m=1\n",
    "while i<=10:\n",
    "    m*=i\n",
    "    i+=1\n",
    "print(\"sum of the first 10 natural numbers = \",m)\n",
    "\n"
   ]
  },
  {
   "cell_type": "code",
   "execution_count": 4,
   "id": "cdc0fa1f-ed54-4cb7-8305-745fc192dd89",
   "metadata": {},
   "outputs": [
    {
     "name": "stdout",
     "output_type": "stream",
     "text": [
      "product of the first 10 natural numbers =  3628800\n"
     ]
    }
   ],
   "source": [
    "m=1\n",
    "for i in range(1,11):\n",
    "    m=m*i\n",
    "print(\"product of the first 10 natural numbers = \",m)"
   ]
  },
  {
   "cell_type": "raw",
   "id": "8c0e8108-ba87-44b5-90bd-a716b2dbfef4",
   "metadata": {},
   "source": [
    "Create a python program to compute the electricity bill for a household.\n",
    "The per-unit charges in rupees are as follows: For the first 100 units, the user will be charged Rs. 4.5 per\n",
    "unit, for the next 100 units, the user will be charged Rs. 6 per unit, and for the next 100 units, the user will\n",
    "be charged Rs. 10 per unit, After 300 units and above the user will be charged Rs. 20 per unit.\n"
   ]
  },
  {
   "cell_type": "code",
   "execution_count": 12,
   "id": "e1a4c0d1-b2f4-46aa-9564-189f14782c82",
   "metadata": {},
   "outputs": [
    {
     "name": "stdin",
     "output_type": "stream",
     "text": [
      "Enter the unit /n To get your electricity bill  310\n"
     ]
    },
    {
     "name": "stdout",
     "output_type": "stream",
     "text": [
      "amount to pay =  2250.0\n"
     ]
    }
   ],
   "source": [
    "unit=int(input(\"Enter the unit /n To get your electricity bill \"))\n",
    "if unit<=100:\n",
    "    print(\"amount to pay = \",unit*4.5)\n",
    "elif unit>100 and unit<=200:\n",
    "    print(\"amount to pay = \",100*4.5+(unit-100)*6)\n",
    "elif unit>200 and unit<=300:\n",
    "    print(\"amount to pay = \",100*4.5+100*6+(unit-200)*10)\n",
    "else :\n",
    "    print(\"amount to pay = \",100*4.5+100*6+100*10+(unit-300)*20)"
   ]
  },
  {
   "cell_type": "markdown",
   "id": "2bf0fa2b-7e08-4e06-9923-f251aad94b44",
   "metadata": {},
   "source": [
    "Create a list of numbers from 1 to 100. Use for loop and while loop to calculate the cube of each\n",
    "number and if the cube of that number is divisible by 4 or 5 then append that number in a list and print\n",
    "that list."
   ]
  },
  {
   "cell_type": "code",
   "execution_count": 25,
   "id": "37721a2e-d4f5-401d-9f59-e1baed61412a",
   "metadata": {},
   "outputs": [
    {
     "name": "stdout",
     "output_type": "stream",
     "text": [
      "[0, 4, 5, 8, 10, 12, 15, 16, 20, 24, 25, 28, 30, 32, 35, 36, 40, 44, 45, 48, 50, 52, 55, 56, 60, 64, 65, 68, 70, 72, 75, 76, 80, 84, 85, 88, 90, 92, 95, 96, 100]\n"
     ]
    }
   ],
   "source": [
    "l=[]\n",
    "l1=[]\n",
    "for i in   range(101):\n",
    "    l.append(i**3)\n",
    "    if i%4==0 or i%5==0:\n",
    "        l1.append(i)\n",
    "print(l1)\n"
   ]
  },
  {
   "cell_type": "code",
   "execution_count": null,
   "id": "7a33f74e-cf9f-4ab3-b925-ae8df2822166",
   "metadata": {},
   "outputs": [],
   "source": [
    "l=[]\n",
    "l1=[]\n",
    "i=1\n",
    "while i<=100:\n",
    "    l.append(i**3)\n",
    "    if i%4==0 or i%5==0:\n",
    "        l1.append(i)\n",
    "        i+=1\n",
    "print(l1)\n",
    "    "
   ]
  },
  {
   "cell_type": "code",
   "execution_count": null,
   "id": "df9a048d-e146-4ffd-a965-d1834a6e2e70",
   "metadata": {},
   "outputs": [],
   "source": [
    "l1"
   ]
  },
  {
   "cell_type": "markdown",
   "id": "66e90a22-0706-492f-9404-7cf35c27134c",
   "metadata": {},
   "source": [
    "Write a program to filter count vowels in the below-given string.\n",
    "string = \"I want to become a data scientist\""
   ]
  },
  {
   "cell_type": "code",
   "execution_count": 7,
   "id": "fb2cd3a7-b798-4488-bf17-1ac3d5cf7fed",
   "metadata": {},
   "outputs": [
    {
     "name": "stdout",
     "output_type": "stream",
     "text": [
      "There are  11 vowel in string \n"
     ]
    }
   ],
   "source": [
    "l=[]\n",
    "c=0\n",
    "string = \"I want to become a data scientist\"\n",
    "for i in string:\n",
    "    if i=='a' or i=='e' or i=='i' or i=='o' or i=='u':\n",
    "        c+=1\n",
    "print(\"There are \",c,\"vowel in string \")\n",
    "      \n",
    "\n",
    "        "
   ]
  },
  {
   "cell_type": "code",
   "execution_count": null,
   "id": "01be8ce0-c813-4b7b-aab3-3ac352d4f4b0",
   "metadata": {},
   "outputs": [],
   "source": []
  }
 ],
 "metadata": {
  "kernelspec": {
   "display_name": "Python 3 (ipykernel)",
   "language": "python",
   "name": "python3"
  },
  "language_info": {
   "codemirror_mode": {
    "name": "ipython",
    "version": 3
   },
   "file_extension": ".py",
   "mimetype": "text/x-python",
   "name": "python",
   "nbconvert_exporter": "python",
   "pygments_lexer": "ipython3",
   "version": "3.10.8"
  }
 },
 "nbformat": 4,
 "nbformat_minor": 5
}
